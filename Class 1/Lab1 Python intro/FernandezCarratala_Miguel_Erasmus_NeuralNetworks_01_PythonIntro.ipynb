{
 "cells": [
  {
   "cell_type": "markdown",
   "metadata": {},
   "source": [
    "# Erasmus Neural Networks\n",
    "http://michalbereta.pl/nn\n",
    "\n",
    "## Introduction to Python"
   ]
  },
  {
   "cell_type": "markdown",
   "metadata": {},
   "source": [
    "## Installing\n",
    "Download Python 3 from http://www.python.org\n",
    "\n",
    "or (recommended) download Anaconda3 from https://www.anaconda.com/download/\n",
    "\n",
    "\n",
    "Recommended reading: https://docs.python.org/3/tutorial/index.html"
   ]
  },
  {
   "cell_type": "markdown",
   "metadata": {},
   "source": [
    "## Before you start\n",
    "\n",
    "Change the name of this notebook according to the schema: {YourSurname}\\_{YourFirstName}\\_{OriginalFileName}.\n",
    "\n",
    "Be sure to fill all places with \"YOUR ANSWER HERE\".\n",
    "\n",
    "When ready, send the notebook, with all the necessary files zipped, to the teacher."
   ]
  },
  {
   "cell_type": "markdown",
   "metadata": {},
   "source": [
    "## Short examples"
   ]
  },
  {
   "cell_type": "markdown",
   "metadata": {},
   "source": [
    "How to print something"
   ]
  },
  {
   "cell_type": "code",
   "execution_count": 1,
   "metadata": {},
   "outputs": [
    {
     "name": "stdout",
     "output_type": "stream",
     "text": [
      "Hello world!\n",
      "Hello world!!\n"
     ]
    }
   ],
   "source": [
    "print(\"Hello world!\")\n",
    "\n",
    "#or\n",
    "print('Hello world!!')"
   ]
  },
  {
   "cell_type": "markdown",
   "metadata": {},
   "source": [
    "Python is a dynamicaly typed language."
   ]
  },
  {
   "cell_type": "code",
   "execution_count": 2,
   "metadata": {},
   "outputs": [
    {
     "name": "stdout",
     "output_type": "stream",
     "text": [
      "hello\n",
      "0.3333333333333333\n"
     ]
    }
   ],
   "source": [
    "x = 'hello'   #x is a string\n",
    "print(x)\n",
    "x = 1.0/3   #and now x is a float\n",
    "print(x)"
   ]
  },
  {
   "cell_type": "markdown",
   "metadata": {},
   "source": [
    "String formatting.\n",
    "\n",
    "About formatting, check also https://pyformat.info/ and https://docs.python.org/3/library/string.html"
   ]
  },
  {
   "cell_type": "code",
   "execution_count": 3,
   "metadata": {},
   "outputs": [
    {
     "name": "stdout",
     "output_type": "stream",
     "text": [
      "x1 = 0.33, x2 = 13\n"
     ]
    }
   ],
   "source": [
    "x1 = 1.0/3\n",
    "x2 = 13\n",
    "print(\"x1 = {:.2f}, x2 = {:d}\".format(x1, x2))"
   ]
  },
  {
   "cell_type": "markdown",
   "metadata": {},
   "source": [
    "How to check and change the working directory."
   ]
  },
  {
   "cell_type": "code",
   "execution_count": 4,
   "metadata": {},
   "outputs": [
    {
     "name": "stdout",
     "output_type": "stream",
     "text": [
      "C:\\Users\\mb\\__notebooks\\nn_2018\\Lab1 Python intro\n",
      "c:\\\n",
      "C:\\Users\\mb\\__notebooks\\nn_2018\\Lab1 Python intro\n"
     ]
    }
   ],
   "source": [
    "import os\n",
    "old_wd = os.getcwd()\n",
    "print(old_wd)\n",
    "os.chdir('c:\\\\')\n",
    "print(os.getcwd())\n",
    "os.chdir(old_wd)\n",
    "print(os.getcwd())"
   ]
  },
  {
   "cell_type": "markdown",
   "metadata": {},
   "source": [
    "How to list the content of a module and display help info."
   ]
  },
  {
   "cell_type": "code",
   "execution_count": 5,
   "metadata": {},
   "outputs": [
    {
     "name": "stdout",
     "output_type": "stream",
     "text": [
      "['DirEntry', 'F_OK', 'MutableMapping', 'O_APPEND', 'O_BINARY', 'O_CREAT', 'O_EXCL', 'O_NOINHERIT', 'O_RANDOM', 'O_RDONLY', 'O_RDWR', 'O_SEQUENTIAL', 'O_SHORT_LIVED', 'O_TEMPORARY', 'O_TEXT', 'O_TRUNC', 'O_WRONLY', 'P_DETACH', 'P_NOWAIT', 'P_NOWAITO', 'P_OVERLAY', 'P_WAIT', 'PathLike', 'R_OK', 'SEEK_CUR', 'SEEK_END', 'SEEK_SET', 'TMP_MAX', 'W_OK', 'X_OK', '_Environ', '__all__', '__builtins__', '__cached__', '__doc__', '__file__', '__loader__', '__name__', '__package__', '__spec__', '_execvpe', '_exists', '_exit', '_fspath', '_get_exports_list', '_putenv', '_unsetenv', '_wrap_close', 'abc', 'abort', 'access', 'altsep', 'chdir', 'chmod', 'close', 'closerange', 'cpu_count', 'curdir', 'defpath', 'device_encoding', 'devnull', 'dup', 'dup2', 'environ', 'error', 'execl', 'execle', 'execlp', 'execlpe', 'execv', 'execve', 'execvp', 'execvpe', 'extsep', 'fdopen', 'fsdecode', 'fsencode', 'fspath', 'fstat', 'fsync', 'ftruncate', 'get_exec_path', 'get_handle_inheritable', 'get_inheritable', 'get_terminal_size', 'getcwd', 'getcwdb', 'getenv', 'getlogin', 'getpid', 'getppid', 'isatty', 'kill', 'linesep', 'link', 'listdir', 'lseek', 'lstat', 'makedirs', 'mkdir', 'name', 'open', 'pardir', 'path', 'pathsep', 'pipe', 'popen', 'putenv', 'read', 'readlink', 'remove', 'removedirs', 'rename', 'renames', 'replace', 'rmdir', 'scandir', 'sep', 'set_handle_inheritable', 'set_inheritable', 'spawnl', 'spawnle', 'spawnv', 'spawnve', 'st', 'startfile', 'stat', 'stat_result', 'statvfs_result', 'strerror', 'supports_bytes_environ', 'supports_dir_fd', 'supports_effective_ids', 'supports_fd', 'supports_follow_symlinks', 'symlink', 'sys', 'system', 'terminal_size', 'times', 'times_result', 'truncate', 'umask', 'uname_result', 'unlink', 'urandom', 'utime', 'waitpid', 'walk', 'write']\n",
      "Help on built-in function chdir in module nt:\n",
      "\n",
      "chdir(path)\n",
      "    Change the current working directory to the specified path.\n",
      "    \n",
      "    path may always be specified as a string.\n",
      "    On some platforms, path may also be specified as an open file descriptor.\n",
      "      If this functionality is unavailable, using it raises an exception.\n",
      "\n",
      "Help on built-in function mkdir in module nt:\n",
      "\n",
      "mkdir(path, mode=511, *, dir_fd=None)\n",
      "    Create a directory.\n",
      "    \n",
      "    If dir_fd is not None, it should be a file descriptor open to a directory,\n",
      "      and path should be relative; path will then be relative to that directory.\n",
      "    dir_fd may not be implemented on your platform.\n",
      "      If it is unavailable, using it will raise a NotImplementedError.\n",
      "    \n",
      "    The mode argument is ignored on Windows.\n",
      "\n"
     ]
    }
   ],
   "source": [
    "import os\n",
    "print(dir(os))\n",
    "help(os.chdir)\n",
    "help(os.mkdir)"
   ]
  },
  {
   "cell_type": "markdown",
   "metadata": {},
   "source": [
    "How to run another python file.\n",
    "\n",
    "Create file 'myprogram.py' in your current working directory. Set the content of the file 'myprogram.py' as:\n",
    "\n",
    "print('hello from another file')"
   ]
  },
  {
   "cell_type": "code",
   "execution_count": 25,
   "metadata": {},
   "outputs": [
    {
     "name": "stdout",
     "output_type": "stream",
     "text": [
      "hello from another file\n"
     ]
    }
   ],
   "source": [
    "exec(compile(open('myprogram.py').read(), 'myprogram.py', 'exec'))"
   ]
  },
  {
   "cell_type": "markdown",
   "metadata": {},
   "source": [
    "How to read user input."
   ]
  },
  {
   "cell_type": "code",
   "execution_count": 3,
   "metadata": {
    "scrolled": true
   },
   "outputs": [
    {
     "name": "stdout",
     "output_type": "stream",
     "text": [
      "What is your name?\n",
      "Miguel\n",
      "Hello Miguel\n",
      "How old are you?20\n",
      "Your age is 20\n"
     ]
    }
   ],
   "source": [
    "print('What is your name?')\n",
    "n = input()\n",
    "print('Hello ' + n)\n",
    "#or \n",
    "age = input('How old are you?')\n",
    "print('Your age is ' + str(age))"
   ]
  },
  {
   "cell_type": "markdown",
   "metadata": {},
   "source": [
    "$while$ loop"
   ]
  },
  {
   "cell_type": "code",
   "execution_count": 20,
   "metadata": {},
   "outputs": [
    {
     "name": "stdout",
     "output_type": "stream",
     "text": [
      "Hello, do you want to end this?no\n",
      "Do you want to end this?no\n",
      "Do you want to end this?yes\n",
      "Ok, see you!\n"
     ]
    }
   ],
   "source": [
    "answer = input('Hello, do you want to end this?')\n",
    "\n",
    "while answer != \"yes\":\n",
    "    answer = input('Do you want to end this?')\n",
    "    \n",
    "print('Ok, see you!')"
   ]
  },
  {
   "cell_type": "markdown",
   "metadata": {},
   "source": [
    "How to convert between strings and numeric values."
   ]
  },
  {
   "cell_type": "code",
   "execution_count": 1,
   "metadata": {},
   "outputs": [
    {
     "name": "stdout",
     "output_type": "stream",
     "text": [
      "<class 'str'>\n",
      "123.14144\n",
      "<class 'float'>\n",
      "123.14144\n",
      "<class 'str'>\n",
      "123\n",
      "<class 'int'>\n"
     ]
    }
   ],
   "source": [
    "s1 = '123.14144'\n",
    "print(type(s1))\n",
    "\n",
    "x = float(s1)\n",
    "print(x)\n",
    "print(type(x))\n",
    "\n",
    "s2 = str(x) #use string formatting for a better control\n",
    "print(s2)\n",
    "print(type(s2))\n",
    "\n",
    "s3 = '123'\n",
    "x2 = int(s3)\n",
    "print(x2)\n",
    "print(type(x2))"
   ]
  },
  {
   "cell_type": "markdown",
   "metadata": {},
   "source": [
    "$if else$ statements"
   ]
  },
  {
   "cell_type": "code",
   "execution_count": 21,
   "metadata": {},
   "outputs": [
    {
     "name": "stdout",
     "output_type": "stream",
     "text": [
      "Do you want to end this?no\n",
      "let's play again!\n",
      "Do you want to end this?YES!\n",
      "Ok, do not be angry!\n"
     ]
    }
   ],
   "source": [
    "while True:\n",
    "    answer = input('Do you want to end this?')\n",
    "    if answer == 'yes':\n",
    "        print('Ok, see you!')\n",
    "        break #breaks the while loop\n",
    "    elif answer == 'YES!':\n",
    "        print('Ok, do not be angry!')\n",
    "        break\n",
    "    elif answer == 'I like you':\n",
    "        print('I like you, too!')\n",
    "    else:\n",
    "        print('let\\'s play again!')\n"
   ]
  },
  {
   "cell_type": "markdown",
   "metadata": {},
   "source": [
    "## Task 1\n",
    "Ask user for a number. If it is even, multiply it by 3, otherwise if it is greater than 10 add 3, otherwise add 1."
   ]
  },
  {
   "cell_type": "code",
   "execution_count": 30,
   "metadata": {},
   "outputs": [
    {
     "name": "stdout",
     "output_type": "stream",
     "text": [
      "Write a number: 11\n",
      "14\n"
     ]
    }
   ],
   "source": [
    "n = int(input('Write a number: '))\n",
    "\n",
    "if n % 2 == 0:\n",
    "    n *= 3\n",
    "elif number > 10:\n",
    "    n += 3\n",
    "else:\n",
    "    n += 1\n",
    "    \n",
    "print(n)"
   ]
  },
  {
   "cell_type": "markdown",
   "metadata": {},
   "source": [
    "How to define a simple function."
   ]
  },
  {
   "cell_type": "code",
   "execution_count": null,
   "metadata": {
    "collapsed": true
   },
   "outputs": [],
   "source": [
    "def my_function1(x, y):\n",
    "    return x + y\n",
    "a = 2\n",
    "b = 3\n",
    "print('The sum of {} and {} is {}'.format(a, b, my_function1(a,b)))  "
   ]
  },
  {
   "cell_type": "markdown",
   "metadata": {},
   "source": [
    "How to import functions from another python file.\n",
    "\n",
    "Create a new file, 'my_lib.py', with the following content:\n",
    "\n",
    "```def my_function1(x, y):\n",
    "        return x + y```"
   ]
  },
  {
   "cell_type": "markdown",
   "metadata": {},
   "source": [
    "Use the function in the main program file."
   ]
  },
  {
   "cell_type": "code",
   "execution_count": 31,
   "metadata": {},
   "outputs": [
    {
     "name": "stdout",
     "output_type": "stream",
     "text": [
      "the sum of 2 and 3 is 5\n"
     ]
    }
   ],
   "source": [
    "import my_lib as lib\n",
    "\n",
    "a = 2\n",
    "b = 3\n",
    "print('the sum of {} and {} is {}'.format(a, b, lib.my_function1(a,b)))    "
   ]
  },
  {
   "cell_type": "markdown",
   "metadata": {},
   "source": [
    "How to create a $for$ loop."
   ]
  },
  {
   "cell_type": "code",
   "execution_count": null,
   "metadata": {},
   "outputs": [],
   "source": [
    "for i in range(10):\n",
    "    print(i, end=' ')\n",
    "\n",
    "print() # just to display a new line\n",
    "\n",
    "for i in range(2,15):\n",
    "    print(i, end=' ')\n",
    "    \n",
    "print() \n",
    "\n",
    "for i in range(2,15,3):\n",
    "    print(i, end=' ')\n",
    "\n",
    "print() \n",
    "\n",
    "for i in range(2,-12,-2):\n",
    "    print(i, end=' ')\n"
   ]
  },
  {
   "cell_type": "markdown",
   "metadata": {},
   "source": [
    "How to create a list."
   ]
  },
  {
   "cell_type": "code",
   "execution_count": null,
   "metadata": {
    "collapsed": true
   },
   "outputs": [],
   "source": [
    "l = []\n",
    "l.append(2)\n",
    "l.append(4)\n",
    "l.insert(1, 'hello')\n",
    "\n",
    "print(l)\n",
    "print(type(l))    "
   ]
  },
  {
   "cell_type": "markdown",
   "metadata": {},
   "source": [
    "How to create a list - range() returns a list."
   ]
  },
  {
   "cell_type": "code",
   "execution_count": null,
   "metadata": {
    "collapsed": true
   },
   "outputs": [],
   "source": [
    "l = list(range(5))\n",
    "print(l)\n",
    "print(type(l))"
   ]
  },
  {
   "cell_type": "markdown",
   "metadata": {},
   "source": [
    "How to iterate over list."
   ]
  },
  {
   "cell_type": "code",
   "execution_count": null,
   "metadata": {
    "collapsed": true
   },
   "outputs": [],
   "source": [
    "l = list(range(5))\n",
    "print(l)\n",
    "for x in l:\n",
    "    print(x)\n",
    "for i in range(len(l)):\n",
    "    print('l[{}] = '.format(i), l[i])"
   ]
  },
  {
   "cell_type": "markdown",
   "metadata": {},
   "source": [
    "How to concatenate two lists."
   ]
  },
  {
   "cell_type": "code",
   "execution_count": null,
   "metadata": {
    "collapsed": true
   },
   "outputs": [],
   "source": [
    "l1 = list(range(5))\n",
    "l2 = ['one', 'two', 'three']\n",
    "l3 = l1 + l2\n",
    "print(l3)\n",
    "l4 = [l1, l2] #something different: list with two elements, each of which is a list\n",
    "print(l4)\n",
    "l1.append(l2) #yet something different\n",
    "print(l1)"
   ]
  },
  {
   "cell_type": "markdown",
   "metadata": {},
   "source": [
    "How to select elements from list."
   ]
  },
  {
   "cell_type": "code",
   "execution_count": null,
   "metadata": {
    "collapsed": true
   },
   "outputs": [],
   "source": [
    "l = list(range(10))\n",
    "print(l)\n",
    "print(l[3])\n",
    "print(l[-1])#the last one\n",
    "print(l[-2])#second from the end\n",
    "print(l[2:6])#from the third to seventh (exclusive)\n",
    "print(l[5:])#from the sixth to the end\n",
    "print(l[:-2])\n",
    "print(l[:])#all elements, the same as print l"
   ]
  },
  {
   "cell_type": "markdown",
   "metadata": {},
   "source": [
    "How to get a sublist."
   ]
  },
  {
   "cell_type": "code",
   "execution_count": null,
   "metadata": {
    "collapsed": true
   },
   "outputs": [],
   "source": [
    "l = list(range(10))\n",
    "print(l)\n",
    "l2 = l[4:7]\n",
    "print(l2)\n",
    "l2[0] = 22 #will it change l?\n",
    "print(l2)\n",
    "print(l)"
   ]
  },
  {
   "cell_type": "markdown",
   "metadata": {},
   "source": [
    "How to do something with every element in the list, for example, calculate power 2."
   ]
  },
  {
   "cell_type": "code",
   "execution_count": null,
   "metadata": {
    "collapsed": true
   },
   "outputs": [],
   "source": [
    "l = list(range(10))\n",
    "print(l)\n",
    "\n",
    "#not so good approach\n",
    "for i in range(len(l)):\n",
    "    l[i] = l[i]**2\n",
    "print(l)\n",
    "\n",
    "#better approach\n",
    "l = [x**2 for x in l]\n",
    "print(l)"
   ]
  },
  {
   "cell_type": "markdown",
   "metadata": {},
   "source": [
    "How to filter elements on the list, for example, select dividable by 7."
   ]
  },
  {
   "cell_type": "code",
   "execution_count": 36,
   "metadata": {},
   "outputs": [
    {
     "name": "stdout",
     "output_type": "stream",
     "text": [
      "[0, 1, 2, 3, 4, 5, 6, 7, 8, 9, 10, 11, 12, 13, 14, 15, 16, 17, 18, 19, 20, 21, 22, 23, 24, 25, 26, 27, 28, 29, 30, 31, 32, 33, 34, 35, 36, 37, 38, 39, 40, 41, 42, 43, 44, 45, 46, 47, 48, 49, 50, 51, 52, 53, 54, 55, 56, 57, 58, 59, 60, 61, 62, 63, 64, 65, 66, 67, 68, 69, 70, 71, 72, 73, 74, 75, 76, 77, 78, 79]\n",
      "\n",
      " [0, 7, 14, 21, 28, 35, 42, 49, 56, 63, 70, 77]\n"
     ]
    }
   ],
   "source": [
    "l = list(range(80))\n",
    "print(l)\n",
    "l2 = [x for x in l if x%7==0]\n",
    "print('\\n',l2)"
   ]
  },
  {
   "cell_type": "markdown",
   "metadata": {},
   "source": [
    "How to call a function for each element from the list."
   ]
  },
  {
   "cell_type": "code",
   "execution_count": 35,
   "metadata": {},
   "outputs": [
    {
     "name": "stdout",
     "output_type": "stream",
     "text": [
      "[0, 1, 2, 3, 4, 5, 6, 7, 8, 9, 10, 11, 12, 13, 14, 15, 16, 17, 18, 19, 20, 21, 22, 23, 24, 25, 26, 27, 28, 29, 30, 31, 32, 33, 34, 35, 36, 37, 38, 39]\n",
      "\n",
      "[0, 1, 8, 27, 64, 125, 216, 343, 512, 729, 1000, 1331, 1728, 2197, 2744, 3375, 4096, 4913, 5832, 6859, 8000, 9261, 10648, 12167, 13824, 15625, 17576, 19683, 21952, 24389, 27000, 29791, 32768, 35937, 39304, 42875, 46656, 50653, 54872, 59319]\n"
     ]
    }
   ],
   "source": [
    "def my_fun(z):\n",
    "    return z**3\n",
    "\n",
    "l = list(range(40))\n",
    "print(l)\n",
    "l2 = [my_fun(x) for x in l]\n",
    "print()\n",
    "print(l2)"
   ]
  },
  {
   "cell_type": "markdown",
   "metadata": {},
   "source": [
    "List comprehension with more than one list."
   ]
  },
  {
   "cell_type": "code",
   "execution_count": 34,
   "metadata": {},
   "outputs": [
    {
     "name": "stdout",
     "output_type": "stream",
     "text": [
      "[0, 1, 2, 3, 4]\n",
      "[5, 6, 7, 8, 9]\n",
      "[0, 0, 0, 0, 0, 5, 6, 7, 8, 9, 10, 12, 14, 16, 18, 15, 18, 21, 24, 27, 20, 24, 28, 32, 36]\n",
      "[(0, 5), (1, 6), (2, 7), (3, 8), (4, 9)]\n",
      "[0, 6, 14, 24, 36]\n",
      "[(0, 5, 0), (1, 6, 0), (2, 7, 0), (3, 8, 0), (4, 9, 0)]\n"
     ]
    }
   ],
   "source": [
    "l1 = list(range(5))\n",
    "l2 = list(range(5,10))\n",
    "print(l1)\n",
    "print(l2)\n",
    "\n",
    "l3 = [x*y for x in l1 for y in l2]\n",
    "print(l3)\n",
    "    \n",
    "print(list(zip(l1, l2)))\n",
    "l4 = [x[0]*x[1] for x in zip(l1,l2)]\n",
    "print(l4)\n",
    "\n",
    "print(list(zip(l1, l2, l3)))"
   ]
  },
  {
   "cell_type": "markdown",
   "metadata": {},
   "source": [
    "The tuple type in python can store several values."
   ]
  },
  {
   "cell_type": "code",
   "execution_count": 33,
   "metadata": {},
   "outputs": [
    {
     "name": "stdout",
     "output_type": "stream",
     "text": [
      "<class 'tuple'>\n"
     ]
    }
   ],
   "source": [
    "mytuple = (1, 'Bob', 3.14)\n",
    "print(type(mytuple))"
   ]
  },
  {
   "cell_type": "markdown",
   "metadata": {},
   "source": [
    "The tuple type in python cannot be modified. The following will generate an error."
   ]
  },
  {
   "cell_type": "code",
   "execution_count": 37,
   "metadata": {},
   "outputs": [
    {
     "ename": "TypeError",
     "evalue": "'tuple' object does not support item assignment",
     "output_type": "error",
     "traceback": [
      "\u001b[1;31m---------------------------------------------------------------------------\u001b[0m",
      "\u001b[1;31mTypeError\u001b[0m                                 Traceback (most recent call last)",
      "\u001b[1;32m<ipython-input-37-0f42b1015d98>\u001b[0m in \u001b[0;36m<module>\u001b[1;34m\u001b[0m\n\u001b[1;32m----> 1\u001b[1;33m \u001b[0mmytuple\u001b[0m\u001b[1;33m[\u001b[0m\u001b[1;36m1\u001b[0m\u001b[1;33m]\u001b[0m \u001b[1;33m=\u001b[0m \u001b[1;34m'John'\u001b[0m\u001b[1;33m\u001b[0m\u001b[1;33m\u001b[0m\u001b[0m\n\u001b[0m",
      "\u001b[1;31mTypeError\u001b[0m: 'tuple' object does not support item assignment"
     ]
    }
   ],
   "source": [
    "mytuple[1] = 'John'"
   ]
  },
  {
   "cell_type": "markdown",
   "metadata": {},
   "source": [
    "## Task 2\n",
    "Create a list with positive numbers less than 100, which raised to power 2 are dividable by 6."
   ]
  },
  {
   "cell_type": "code",
   "execution_count": 32,
   "metadata": {},
   "outputs": [
    {
     "name": "stdout",
     "output_type": "stream",
     "text": [
      "[0, 1, 2, 3, 4, 5, 6, 7, 8, 9, 10, 11, 12, 13, 14, 15, 16, 17, 18, 19, 20, 21, 22, 23, 24, 25, 26, 27, 28, 29, 30, 31, 32, 33, 34, 35, 36, 37, 38, 39, 40, 41, 42, 43, 44, 45, 46, 47, 48, 49, 50, 51, 52, 53, 54, 55, 56, 57, 58, 59, 60, 61, 62, 63, 64, 65, 66, 67, 68, 69, 70, 71, 72, 73, 74, 75, 76, 77, 78, 79, 80, 81, 82, 83, 84, 85, 86, 87, 88, 89, 90, 91, 92, 93, 94, 95, 96, 97, 98, 99]\n",
      "\n",
      " [0, 6, 12, 18, 24, 30, 36, 42, 48, 54, 60, 66, 72, 78, 84, 90, 96]\n"
     ]
    }
   ],
   "source": [
    "l = list(range(100))\n",
    "print(l)\n",
    "l2 = [x for x in l if x**2%6==0]\n",
    "print('\\n',l2)"
   ]
  },
  {
   "cell_type": "markdown",
   "metadata": {},
   "source": [
    "How to delete elements from the list."
   ]
  },
  {
   "cell_type": "code",
   "execution_count": 38,
   "metadata": {},
   "outputs": [
    {
     "name": "stdout",
     "output_type": "stream",
     "text": [
      "[0, 1, 2, 3, 4, 5, 6, 7, 8, 9]\n",
      "[0, 1, 2, 8, 9]\n"
     ]
    }
   ],
   "source": [
    "l = list(range(10))\n",
    "print(l)\n",
    "l[3:-2] = []\n",
    "print(l)"
   ]
  },
  {
   "cell_type": "markdown",
   "metadata": {},
   "source": [
    "How to delete elements from the list - be carefull!"
   ]
  },
  {
   "cell_type": "code",
   "execution_count": 39,
   "metadata": {},
   "outputs": [
    {
     "name": "stdout",
     "output_type": "stream",
     "text": [
      "[0, 1, 2, 3, 4, 5, 6, 7, 8, 9]\n",
      "[0, 1, 2, [], 4, 5, 6, 7, 8, 9]\n"
     ]
    }
   ],
   "source": [
    "l = list(range(10))\n",
    "print(l)\n",
    "l[3] = []\n",
    "print(l)"
   ]
  },
  {
   "cell_type": "markdown",
   "metadata": {},
   "source": [
    "How to delete elements from the list - correct."
   ]
  },
  {
   "cell_type": "code",
   "execution_count": 40,
   "metadata": {},
   "outputs": [
    {
     "name": "stdout",
     "output_type": "stream",
     "text": [
      "[0, 1, 2, 3, 4, 5, 6, 7, 8, 9]\n",
      "[0, 1, 2, 4, 5, 6, 7, 8, 9]\n"
     ]
    }
   ],
   "source": [
    "l = list(range(10))\n",
    "print(l)\n",
    "del l[3]\n",
    "print(l)"
   ]
  },
  {
   "cell_type": "markdown",
   "metadata": {},
   "source": [
    "How to do some interesting things with lists."
   ]
  },
  {
   "cell_type": "code",
   "execution_count": 41,
   "metadata": {},
   "outputs": [
    {
     "name": "stdout",
     "output_type": "stream",
     "text": [
      "['one', 'two', 'three', 'four']\n",
      "['four', 'three', 'two', 'one']\n",
      "['four', 'one', 'three', 'two']\n",
      "['four', 'one', 'three', 'two', 'four', 'one', 'three', 'two']\n",
      "2\n",
      "3\n",
      "['four', 'one', 'three', 'four', 'one', 'three', 'two']\n",
      "['one', 'two', 'four', 'three']\n",
      "['four', 'one', 'three', 'four', 'one', 'three', 'two']\n",
      "['one', 'three', 'one', 'three', 'two']\n"
     ]
    }
   ],
   "source": [
    "l = ['one','two','three','four']\n",
    "print(l)\n",
    "\n",
    "#reverse\n",
    "l.reverse()\n",
    "print(l)\n",
    "\n",
    "#sort\n",
    "l.sort()\n",
    "print(l)\n",
    "\n",
    "l = l+l  #what is happening here?\n",
    "print(l)\n",
    "\n",
    "#how many elements of value 'two'?\n",
    "print(l.count('two'))\n",
    "\n",
    "#index of an element (first occurance)\n",
    "print(l.index('two'))\n",
    "\n",
    "#remove first occurance of 'two'\n",
    "l.remove('two')\n",
    "print(l)\n",
    "\n",
    "#remove duplications\n",
    "l2 = list(set(l))\n",
    "print(l2)\n",
    "\n",
    "#remove all accurances of an element\n",
    "print(l)\n",
    "l = [x for x in l if x!='four']\n",
    "print(l)"
   ]
  },
  {
   "cell_type": "markdown",
   "metadata": {},
   "source": [
    "How to use sets (collections that do not allow repetitions)."
   ]
  },
  {
   "cell_type": "code",
   "execution_count": 42,
   "metadata": {},
   "outputs": [
    {
     "name": "stdout",
     "output_type": "stream",
     "text": [
      "set()\n",
      "{2, 5, 'some string'}\n",
      "2\n",
      "5\n",
      "some string\n",
      "<class 'set'>\n",
      "[2, 5, 'some string']\n",
      "<class 'list'>\n"
     ]
    }
   ],
   "source": [
    "my_set = set()\n",
    "print(my_set)\n",
    "\n",
    "my_set.add(2)\n",
    "my_set.add(5)\n",
    "my_set.add('some string')\n",
    "my_set.add(5)\n",
    "my_set.add('some string')\n",
    "\n",
    "print(my_set)\n",
    "\n",
    "for x in my_set:\n",
    "    print(x)\n",
    "    \n",
    "print(type(my_set))\n",
    "\n",
    "l = list(my_set)\n",
    "\n",
    "print(l)\n",
    "\n",
    "print(type(l))"
   ]
  },
  {
   "cell_type": "markdown",
   "metadata": {},
   "source": [
    "How to use tuples (elements cannot be change in tuples)."
   ]
  },
  {
   "cell_type": "code",
   "execution_count": 43,
   "metadata": {},
   "outputs": [
    {
     "name": "stdout",
     "output_type": "stream",
     "text": [
      "(1, 2, 3, 'some string')\n",
      "<class 'tuple'>\n",
      "[4, 2, 3, 'some string']\n",
      "2 3\n"
     ]
    }
   ],
   "source": [
    "x = (1,2,3, 'some string')\n",
    "print(x)\n",
    "print(type(x))\n",
    "\n",
    "#x[0] = 4 #error! cannot change the element in tuple\n",
    "\n",
    "l = list(x) #creates a list based on the tuple elements\n",
    "l[0] = 4\n",
    "print(l)\n",
    "\n",
    "x1, x2 = x[1:3] #unpacking some of tuple elements\n",
    "\n",
    "print(x1, x2)"
   ]
  },
  {
   "cell_type": "markdown",
   "metadata": {},
   "source": [
    "How to copy a list - wrong way."
   ]
  },
  {
   "cell_type": "code",
   "execution_count": 44,
   "metadata": {},
   "outputs": [
    {
     "name": "stdout",
     "output_type": "stream",
     "text": [
      "[11, 1, 2, 3, 4, 5, 6, 7, 8, 9]\n",
      "[11, 1, 2, 3, 4, 5, 6, 7, 8, 9]\n"
     ]
    }
   ],
   "source": [
    "l = list(range(10))\n",
    "l2 = l #is it a copy? no!\n",
    "l2[0] = 11\n",
    "print(l)\n",
    "print(l2)"
   ]
  },
  {
   "cell_type": "markdown",
   "metadata": {},
   "source": [
    "How to copy a list - correct."
   ]
  },
  {
   "cell_type": "code",
   "execution_count": 45,
   "metadata": {},
   "outputs": [
    {
     "name": "stdout",
     "output_type": "stream",
     "text": [
      "[0, 1, 2, 3, 4, 5, 6, 7, 8, 9]\n",
      "[11, 1, 2, 3, 4, 5, 6, 7, 8, 9]\n"
     ]
    }
   ],
   "source": [
    "l = list(range(10))\n",
    "l2 = l[:] #is it a copy? yes!\n",
    "l2[0] = 11\n",
    "print(l)\n",
    "print(l2)"
   ]
  },
  {
   "cell_type": "markdown",
   "metadata": {},
   "source": [
    "How to copy a list - correct."
   ]
  },
  {
   "cell_type": "code",
   "execution_count": 46,
   "metadata": {},
   "outputs": [
    {
     "name": "stdout",
     "output_type": "stream",
     "text": [
      "[0, 1, 2, 3, 4, 5, 6, 7, 8, 9]\n",
      "[11, 1, 2, 3, 4, 5, 6, 7, 8, 9]\n"
     ]
    }
   ],
   "source": [
    "l = list(range(10))\n",
    "l2 = list(l) #is it a copy? yes!\n",
    "l2[0] = 11\n",
    "print(l)\n",
    "print(l2)"
   ]
  },
  {
   "cell_type": "markdown",
   "metadata": {},
   "source": [
    "How to copy a list of objects."
   ]
  },
  {
   "cell_type": "code",
   "execution_count": 47,
   "metadata": {},
   "outputs": [
    {
     "name": "stdout",
     "output_type": "stream",
     "text": [
      "11\n",
      "22\n",
      "33\n",
      "\n",
      "44\n",
      "22\n",
      "33\n",
      "\n",
      "44\n",
      "22\n",
      "33\n"
     ]
    }
   ],
   "source": [
    "class MyData:\n",
    "    def __init__(self, value):\n",
    "        self.x = value\n",
    "\n",
    "l = [MyData(11), MyData(22), MyData(33)]\n",
    "for z in l:\n",
    "    print(z.x);\n",
    "    \n",
    "l2 = list(l) #copy of the list but the objects are the same !!!\n",
    "l2[0].x = 44\n",
    "\n",
    "print()\n",
    "for z in l2:\n",
    "    print(z.x)\n",
    "print()\n",
    "for z in l:\n",
    "    print(z.x)"
   ]
  },
  {
   "cell_type": "markdown",
   "metadata": {},
   "source": [
    "How to copy a list of objects ith deepcopy."
   ]
  },
  {
   "cell_type": "code",
   "execution_count": 48,
   "metadata": {},
   "outputs": [
    {
     "name": "stdout",
     "output_type": "stream",
     "text": [
      "11\n",
      "22\n",
      "33\n",
      "\n",
      "44\n",
      "22\n",
      "33\n",
      "\n",
      "11\n",
      "22\n",
      "33\n"
     ]
    }
   ],
   "source": [
    "import copy\n",
    "\n",
    "class MyData:\n",
    "    def __init__(self, value):\n",
    "        self.x = value\n",
    "\n",
    "l = [MyData(11), MyData(22), MyData(33)]\n",
    "for z in l:\n",
    "    print(z.x);\n",
    "    \n",
    "l2 = copy.deepcopy(l) #copy of the list and the objects\n",
    "l2[0].x = 44\n",
    "\n",
    "print('')\n",
    "for z in l2:\n",
    "    print(z.x)\n",
    "print('')\n",
    "for z in l:\n",
    "    print(z.x)"
   ]
  },
  {
   "cell_type": "markdown",
   "metadata": {},
   "source": [
    "How to create simple class."
   ]
  },
  {
   "cell_type": "code",
   "execution_count": 49,
   "metadata": {},
   "outputs": [
    {
     "name": "stdout",
     "output_type": "stream",
     "text": [
      "0\n",
      "1\n",
      "2\n",
      "3\n",
      "4\n"
     ]
    }
   ],
   "source": [
    "import copy\n",
    "\n",
    "class MyData:\n",
    "    def __init__(self, data):\n",
    "        self.data = copy.deepcopy(data)\n",
    "    def PrintData(self):\n",
    "        for x in self.data:\n",
    "            print(x)\n",
    "           \n",
    "l = list(range(5))\n",
    "d = MyData(l)\n",
    "d.PrintData()"
   ]
  },
  {
   "cell_type": "markdown",
   "metadata": {},
   "source": [
    "How to copy objects."
   ]
  },
  {
   "cell_type": "code",
   "execution_count": null,
   "metadata": {
    "collapsed": true
   },
   "outputs": [],
   "source": [
    "import copy\n",
    "\n",
    "class MyData:\n",
    "    def __init__(self, data):\n",
    "        self.data = copy.deepcopy(data)\n",
    "    def PrintData(self):\n",
    "        print('\\ndata: ')\n",
    "        for x in self.data:\n",
    "            print(x, end=' ')\n",
    "\n",
    "l = list(range(5))            \n",
    "d = MyData(l)\n",
    "d.PrintData()\n",
    "\n",
    "d2 = d #just two names for the same object!\n",
    "d2.data[0] = 22\n",
    "\n",
    "d.PrintData()\n",
    "d2.PrintData()\n",
    "\n",
    "print('\\nunique identifiers of objects:')\n",
    "print(id(d))\n",
    "print(id(d2)) #the same -> d and d2 are the same object\n",
    "\n",
    "d2 = copy.copy(d)\n",
    "print(id(d2)) #now d2 is different than d\n",
    "\n",
    "d2.data[0] = 33\n",
    "\n",
    "d2.PrintData()\n",
    "d.PrintData() # be carefull! d and d2 are different objects but they have the same list data!\n",
    "\n",
    "#correct !\n",
    "d2 = copy.deepcopy(d)\n",
    "print()\n",
    "print()\n",
    "print(id(d))\n",
    "print(id(d2))\n",
    "d2.data[0] = 44\n",
    "d.PrintData()\n",
    "d2.PrintData() #different data! ok!"
   ]
  },
  {
   "cell_type": "markdown",
   "metadata": {},
   "source": [
    "Does a function change a simple buil-in types?"
   ]
  },
  {
   "cell_type": "code",
   "execution_count": null,
   "metadata": {
    "collapsed": true
   },
   "outputs": [],
   "source": [
    "def function1(x):\n",
    "    x = x + 1\n",
    "    print(x)\n",
    "\n",
    "d = 2\n",
    "print(d)\n",
    "\n",
    "function1(d)\n",
    "\n",
    "print(d) #is the change visible? no!"
   ]
  },
  {
   "cell_type": "markdown",
   "metadata": {},
   "source": [
    "Does a function change a list?"
   ]
  },
  {
   "cell_type": "code",
   "execution_count": null,
   "metadata": {
    "collapsed": true
   },
   "outputs": [],
   "source": [
    "def function1(x):\n",
    "    x[0] = 11\n",
    "    print(x)\n",
    "\n",
    "l = list(range(5))\n",
    "print(l)\n",
    "\n",
    "function1(l)\n",
    "\n",
    "print(l) #is the change visible? yes!"
   ]
  },
  {
   "cell_type": "markdown",
   "metadata": {},
   "source": [
    "Does a function change an object?"
   ]
  },
  {
   "cell_type": "code",
   "execution_count": 54,
   "metadata": {},
   "outputs": [
    {
     "name": "stdout",
     "output_type": "stream",
     "text": [
      "\n",
      "data:\n",
      "0 1 2 3 4 \n",
      "data:\n",
      "11 1 2 3 4 "
     ]
    }
   ],
   "source": [
    "import copy\n",
    "\n",
    "class MyData:\n",
    "    def __init__(self, data):\n",
    "        self.data = copy.deepcopy(data)\n",
    "    def PrintData(self):\n",
    "        print('\\ndata:')\n",
    "        for x in self.data:\n",
    "            print(x, end=' ')\n",
    "           \n",
    "def function1(x):\n",
    "    x.data[0] = 11\n",
    "\n",
    "\n",
    "d = MyData(list(range(5)))\n",
    "d.PrintData()\n",
    "\n",
    "function1(d)\n",
    "\n",
    "d.PrintData()#is the change visible? yes!"
   ]
  },
  {
   "cell_type": "markdown",
   "metadata": {},
   "source": [
    "## Task 3\n",
    "Write a class Person to store information about the name, surname and age of a person. \n",
    "\n",
    "Create a list o such objects. Copy the list to other list (make a deep copy: copy not only list but also the objects)."
   ]
  },
  {
   "cell_type": "code",
   "execution_count": 53,
   "metadata": {},
   "outputs": [
    {
     "name": "stdout",
     "output_type": "stream",
     "text": [
      "Miguel Fernandez 20\n",
      "Emanuele Bosimini 25\n",
      "\n",
      "Mike Fernandez 20\n",
      "Emanuele Bosimini 25\n",
      "\n",
      "Miguel Fernandez 20\n",
      "Emanuele Bosimini 25\n"
     ]
    }
   ],
   "source": [
    "class Person:\n",
    "    def __init__(self, name, surname, age):\n",
    "        self.name = name\n",
    "        self.surname = surname\n",
    "        self.age = age\n",
    "\n",
    "l = [Person(\"Miguel\",\"Fernandez\",20), Person(\"Emanuele\",\"Bosimini\",25)]\n",
    "for x in l:\n",
    "    print(x.name,x.surname,x.age)\n",
    "    \n",
    "l2 = copy.deepcopy(l) #copy of the list and the objects\n",
    "l2[0].name = \"Mike\"\n",
    "\n",
    "print('')\n",
    "for x in l2:\n",
    "    print(x.name,x.surname,x.age)\n",
    "print('')\n",
    "for x in l:\n",
    "    print(x.name,x.surname,x.age)"
   ]
  },
  {
   "cell_type": "markdown",
   "metadata": {},
   "source": [
    "How to sort a list of objects."
   ]
  },
  {
   "cell_type": "code",
   "execution_count": 55,
   "metadata": {},
   "outputs": [
    {
     "name": "stdout",
     "output_type": "stream",
     "text": [
      "[(0.14789860285055278; 0.2409863920059131), (0.5864178696518357; 0.5069268417431239), (0.7196650210918473; 0.09155521139512401), (0.7690188982502433; 0.02880398953643859), (0.8931843529620176; 0.7344966783428167), (0.43604932724461243; 0.07488205766838052), (0.4062230524479977; 0.5301250800866608), (0.08061048577489005; 0.44755615300612395), (0.49938729413160876; 0.7430955953515276), (0.017180735209013753; 0.24745780974935838)]\n",
      "\n",
      "[(0.017180735209013753; 0.24745780974935838), (0.08061048577489005; 0.44755615300612395), (0.14789860285055278; 0.2409863920059131), (0.4062230524479977; 0.5301250800866608), (0.43604932724461243; 0.07488205766838052), (0.49938729413160876; 0.7430955953515276), (0.5864178696518357; 0.5069268417431239), (0.7196650210918473; 0.09155521139512401), (0.7690188982502433; 0.02880398953643859), (0.8931843529620176; 0.7344966783428167)]\n",
      "\n",
      "[(0.7690188982502433; 0.02880398953643859), (0.43604932724461243; 0.07488205766838052), (0.7196650210918473; 0.09155521139512401), (0.14789860285055278; 0.2409863920059131), (0.017180735209013753; 0.24745780974935838), (0.08061048577489005; 0.44755615300612395), (0.5864178696518357; 0.5069268417431239), (0.4062230524479977; 0.5301250800866608), (0.8931843529620176; 0.7344966783428167), (0.49938729413160876; 0.7430955953515276)]\n"
     ]
    }
   ],
   "source": [
    "import random as rand\n",
    "\n",
    "class Data:\n",
    "    def __init__(self):\n",
    "        self.x = rand.random()\n",
    "        self.y = rand.random()\n",
    "    def __str__(self):\n",
    "        return '(' + str(self.x) + '; ' + str(self.y) + ')'\n",
    "    def __repr__(self):\n",
    "        return '(' + str(self.x) + '; ' + str(self.y) + ')'\n",
    "\n",
    "l = []\n",
    "for i in range(10):\n",
    "    l.append(Data())\n",
    "print(l)\n",
    "\n",
    "l2 = sorted(l, key = lambda object : object.x) #sorted according to Data.x values\n",
    "print()\n",
    "print(l2)\n",
    "\n",
    "l3 = sorted(l, key = lambda object : object.y) #sorted according to Data.y values\n",
    "print()\n",
    "print(l3)"
   ]
  },
  {
   "cell_type": "markdown",
   "metadata": {},
   "source": [
    "## Task 4\n",
    "Sort a list of Person objects according to age/name/surname."
   ]
  },
  {
   "cell_type": "code",
   "execution_count": 60,
   "metadata": {},
   "outputs": [
    {
     "name": "stdout",
     "output_type": "stream",
     "text": [
      "\n",
      "Miguel Fernandez 20\n",
      "Emanuele Bosimini 25\n",
      "Emanuele Fernandez 20\n",
      "Miguel Bosimini 25\n",
      "\n",
      "Emanuele Bosimini 25\n",
      "Emanuele Fernandez 20\n",
      "Miguel Fernandez 20\n",
      "Miguel Bosimini 25\n",
      "\n",
      "Emanuele Bosimini 25\n",
      "Miguel Bosimini 25\n",
      "Miguel Fernandez 20\n",
      "Emanuele Fernandez 20\n",
      "\n",
      "Miguel Fernandez 20\n",
      "Emanuele Fernandez 20\n",
      "Emanuele Bosimini 25\n",
      "Miguel Bosimini 25\n"
     ]
    }
   ],
   "source": [
    "l = [Person(\"Miguel\",\"Fernandez\",20),Person(\"Emanuele\",\"Bosimini\",25),Person(\"Emanuele\",\"Fernandez\",20),Person(\"Miguel\",\"Bosimini\",25)]\n",
    "print('')\n",
    "for x in l:\n",
    "    print(x.name,x.surname,x.age)\n",
    "\n",
    "l2 = sorted(l, key = lambda object : object.name) #sorted according to Person.age values\n",
    "print('')\n",
    "for x in l2:\n",
    "    print(x.name,x.surname,x.age)\n",
    "\n",
    "l3 = sorted(l, key = lambda object : object.surname) #sorted according to Person.surname values\n",
    "print('')\n",
    "for x in l3:\n",
    "    print(x.name,x.surname,x.age)\n",
    "\n",
    "l4 = sorted(l, key = lambda object : object.age) #sorted according to Person.age values\n",
    "print('')\n",
    "for x in l4:\n",
    "    print(x.name,x.surname,x.age)"
   ]
  },
  {
   "cell_type": "markdown",
   "metadata": {},
   "source": [
    "How to read from a file."
   ]
  },
  {
   "cell_type": "code",
   "execution_count": 61,
   "metadata": {},
   "outputs": [
    {
     "name": "stdout",
     "output_type": "stream",
     "text": [
      "The designers of some computer languages choose to emphasize one particular approach to programming. This often makes it difficult to write programs that use a different approach. Other languages are multi-paradigm languages that support several different approaches. Lisp, C++, and Python are multi-paradigm; you can write programs or libraries that are largely procedural, object-oriented, or functional in all of these languages. In a large program, different sections might be written using different approaches; the GUI might be object-oriented while the processing logic is procedural or functional, for example.\n",
      "\n",
      "\n",
      "\n",
      "In a functional program, input flows through a set of functions. Each function operates on its input and produces some output. Functional style discourages functions with side effects that modify internal state or make other changes that arenâ€™t visible in the functionâ€™s return value. Functions that have no side effects at all are called purely functional. Avoiding side effects means not using data structures that get updated as a program runs; every functionâ€™s output must only depend on its input.\n",
      "\n",
      "\n",
      "\n",
      "Some languages are very strict about purity and donâ€™t even have assignment statements such as a=3 or c = a + b, but itâ€™s difficult to avoid all side effects. Printing to the screen or writing to a disk file are side effects, for example. For example, in Python a print statement or a time.sleep(1) both return no useful value; theyâ€™re only called for their side effects of sending some text to the screen or pausing execution for a second.\n",
      "\n",
      "\n",
      "\n",
      "Python programs written in functional style usually wonâ€™t go to the extreme of avoiding all I/O or all assignments; instead, theyâ€™ll provide a functional-appearing interface but will use non-functional features internally. For example, the implementation of a function will still use assignments to local variables, but wonâ€™t modify global variables or have other side effects.\n",
      "\n",
      "\n",
      "\n",
      "Functional programming can be considered the opposite of object-oriented programming. Objects are little capsules containing some internal state along with a collection of method calls that let you modify this state, and programs consist of making the right set of state changes. Functional programming wants to avoid state changes as much as possible and works with data flowing between functions. In Python you might combine the two approaches by writing functions that take and return instances representing objects in your application (e-mail messages, transactions, etc.).\n",
      "\n",
      "A theoretical benefit is that itâ€™s easier to construct a mathematical proof that a functional program is correct.\n",
      "\n",
      "\n",
      "\n",
      "For a long time researchers have been interested in finding ways to mathematically prove programs correct. This is different from testing a program on numerous inputs and concluding that its output is usually correct, or reading a programâ€™s source code and concluding that the code looks right; the goal is instead a rigorous proof that a program produces the right result for all possible inputs.\n",
      "\n",
      "\n",
      "\n",
      "The technique used to prove programs correct is to write down invariants, properties of the input data and of the programâ€™s variables that are always true. For each line of code, you then show that if invariants X and Y are true before the line is executed, the slightly different invariants Xâ€™ and Yâ€™ are true after the line is executed. This continues until you reach the end of the program, at which point the invariants should match the desired conditions on the programâ€™s output.\n",
      "\n",
      "\n",
      "\n",
      "Functional programmingâ€™s avoidance of assignments arose because assignments are difficult to handle with this technique; assignments can break invariants that were true before the assignment without producing any new invariants that can be propagated onward.\n",
      "\n",
      "\n",
      "\n",
      "Unfortunately, proving programs correct is largely impractical and not relevant to Python software. Even trivial programs require proofs that are several pages long; the proof of correctness for a moderately complicated program would be enormous, and few or none of the programs you use daily (the Python interpreter, your XML parser, your web browser) could be proven correct. Even if you wrote down or generated a proof, there would then be the question of verifying the proof; maybe thereâ€™s an error in it, and you wrongly believe youâ€™ve proved the program correct.\n"
     ]
    }
   ],
   "source": [
    "f = open('example_file.txt','r')\n",
    "lines = f.readlines()\n",
    "f.close()\n",
    "\n",
    "for l in lines:\n",
    "    print(l)"
   ]
  },
  {
   "cell_type": "markdown",
   "metadata": {},
   "source": [
    "How to write to a file."
   ]
  },
  {
   "cell_type": "code",
   "execution_count": 62,
   "metadata": {},
   "outputs": [],
   "source": [
    "l = list(range(10))\n",
    "f = open('out_file.txt','w')\n",
    "for x in l:\n",
    "    print('{} :'.format(x), end=' ', file=f)\n",
    "f.close()"
   ]
  },
  {
   "cell_type": "markdown",
   "metadata": {},
   "source": [
    "How to write to a file - another way."
   ]
  },
  {
   "cell_type": "code",
   "execution_count": null,
   "metadata": {
    "collapsed": true
   },
   "outputs": [],
   "source": [
    "l = list(range(4,20,3)) #from 4 to 20, every third \n",
    "f = open('out_file.txt','w')\n",
    "for x in l:\n",
    "    f.write('element {} :'.format(x))\n",
    "f.close()"
   ]
  },
  {
   "cell_type": "markdown",
   "metadata": {},
   "source": [
    "How to split a string."
   ]
  },
  {
   "cell_type": "code",
   "execution_count": 63,
   "metadata": {},
   "outputs": [
    {
     "name": "stdout",
     "output_type": "stream",
     "text": [
      "['this', 'is', 'some', 'not', 'so', 'long', 'sentence']\n",
      "<class 'list'>\n"
     ]
    }
   ],
   "source": [
    "s = 'this is some not so long sentence'\n",
    "words = s.split()\n",
    "print(words)\n",
    "print(type(words))"
   ]
  },
  {
   "cell_type": "markdown",
   "metadata": {},
   "source": [
    "How to list files from a directory."
   ]
  },
  {
   "cell_type": "code",
   "execution_count": null,
   "metadata": {
    "collapsed": true
   },
   "outputs": [],
   "source": [
    "import os\n",
    "from os.path import isfile, join\n",
    "\n",
    "print(os.listdir('.')) #list dirs and files from the current working directory\n",
    "#print(os.listdir('C:\\\\'))\n",
    "\n",
    "path = '.'\n",
    "for f in os.listdir(path):\n",
    "    if isfile(f):   \n",
    "        print(f) #or do something else\n",
    "\n",
    "\n",
    "#find only files        \n",
    "files = [f for f in os.listdir(path) if isfile(join(path, f))]\n",
    "print(files)\n",
    "\n",
    "#find only .txt files\n",
    "files = [f for f in os.listdir(path) if isfile(join(path, f)) and f.endswith('.txt')]\n",
    "print(files)"
   ]
  },
  {
   "cell_type": "markdown",
   "metadata": {},
   "source": [
    "## Task 5\n",
    "Count words in the file example_file.txt."
   ]
  },
  {
   "cell_type": "code",
   "execution_count": 80,
   "metadata": {},
   "outputs": [
    {
     "name": "stdout",
     "output_type": "stream",
     "text": [
      "683\n"
     ]
    }
   ],
   "source": [
    "numWords = 0\n",
    "\n",
    "f = open('example_file.txt','r')\n",
    "lines = f.readlines()\n",
    "\n",
    "for x in lines:\n",
    "    words = x.split()\n",
    "    numWords += len(words)\n",
    "    \n",
    "print(numWords)\n",
    "f.close()"
   ]
  },
  {
   "cell_type": "markdown",
   "metadata": {},
   "source": [
    "## Task 6\n",
    "Print distinct words from file example_file.txt."
   ]
  },
  {
   "cell_type": "code",
   "execution_count": 84,
   "metadata": {},
   "outputs": [
    {
     "name": "stdout",
     "output_type": "stream",
     "text": [
      "['Unfortunately,', 'proving', 'programs', 'correct', 'is', 'largely', 'impractical', 'and', 'not', 'relevant', 'to', 'Python', 'software.', 'Even', 'trivial', 'require', 'proofs', 'that', 'are', 'several', 'pages', 'long;', 'the', 'proof', 'of', 'correctness', 'for', 'a', 'moderately', 'complicated', 'program', 'would', 'be', 'enormous,', 'few', 'or', 'none', 'you', 'use', 'daily', '(the', 'interpreter,', 'your', 'XML', 'parser,', 'web', 'browser)', 'could', 'proven', 'correct.', 'if', 'wrote', 'down', 'generated', 'proof,', 'there', 'then', 'question', 'verifying', 'proof;', 'maybe', 'thereâ€™s', 'an', 'error', 'in', 'it,', 'wrongly', 'believe', 'youâ€™ve', 'proved']\n"
     ]
    }
   ],
   "source": [
    "f = open('example_file.txt','r')\n",
    "lines = f.readlines()\n",
    "\n",
    "for x in lines:\n",
    "    words = x.split()\n",
    "    #print(words)\n",
    "\n",
    "l = []\n",
    "\n",
    "for x in words:\n",
    "    if x not in l:\n",
    "        l.append(x)\n",
    "        \n",
    "print(l)"
   ]
  },
  {
   "cell_type": "markdown",
   "metadata": {},
   "source": [
    "## Task 7\n",
    "Print how many times each word from file example_file.txt occurs."
   ]
  },
  {
   "cell_type": "code",
   "execution_count": 100,
   "metadata": {},
   "outputs": [
    {
     "name": "stdout",
     "output_type": "stream",
     "text": [
      "['Unfortunately,', 'proving', 'programs', 'correct', 'is', 'largely', 'impractical', 'and', 'not', 'relevant', 'to', 'Python', 'software.', 'Even', 'trivial', 'require', 'proofs', 'that', 'are', 'several', 'pages', 'long;', 'the', 'proof', 'of', 'correctness', 'for', 'a', 'moderately', 'complicated', 'program', 'would', 'be', 'enormous,', 'few', 'or', 'none', 'you', 'use', 'daily', '(the', 'interpreter,', 'your', 'XML', 'parser,', 'web', 'browser)', 'could', 'proven', 'correct.', 'if', 'wrote', 'down', 'generated', 'proof,', 'there', 'then', 'question', 'verifying', 'proof;', 'maybe', 'thereâ€™s', 'an', 'error', 'in', 'it,', 'wrongly', 'believe', 'youâ€™ve', 'proved']\n",
      "[1, 1, 3, 1, 1, 1, 1, 3, 1, 1, 1, 2, 1, 2, 1, 1, 1, 1, 1, 1, 1, 1, 5, 1, 3, 1, 1, 2, 1, 1, 2, 2, 3, 1, 1, 2, 1, 3, 1, 1, 1, 1, 2, 1, 1, 1, 1, 1, 1, 2, 1, 1, 1, 1, 1, 1, 1, 1, 1, 1, 1, 1, 1, 1, 1, 1, 1, 1, 1, 1]\n"
     ]
    }
   ],
   "source": [
    "f = open('example_file.txt','r')\n",
    "lines = f.readlines()\n",
    "\n",
    "for x in lines:\n",
    "    words = x.split()\n",
    "    #print(words)\n",
    "\n",
    "l = []\n",
    "l2 = []\n",
    "\n",
    "for x in words:\n",
    "    if x not in l:\n",
    "        l.append(x)\n",
    "\n",
    "i = 0\n",
    "        \n",
    "for x in l:\n",
    "    l2.append(0)\n",
    "    for y in words:\n",
    "        if x==y:\n",
    "            l2[i] += 1\n",
    "    i += 1\n",
    "\n",
    "print(l)\n",
    "print(l2)"
   ]
  }
 ],
 "metadata": {
  "kernelspec": {
   "display_name": "Python 3",
   "language": "python",
   "name": "python3"
  },
  "language_info": {
   "codemirror_mode": {
    "name": "ipython",
    "version": 3
   },
   "file_extension": ".py",
   "mimetype": "text/x-python",
   "name": "python",
   "nbconvert_exporter": "python",
   "pygments_lexer": "ipython3",
   "version": "3.7.3"
  }
 },
 "nbformat": 4,
 "nbformat_minor": 2
}
